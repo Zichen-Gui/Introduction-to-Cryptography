{
 "cells": [
  {
   "cell_type": "markdown",
   "metadata": {},
   "source": [
    "## Introduction\n",
    "In the last programming assignment, you saw a key-recovery attack that uses pairs of known plaintexts and ciphertexts to reduce the number of possible keys. This attack is only possible if the design of the block cipher is weak, i.e., one can find equations involving (a subset of) the plaintext bits, (a subset of) the ciphertext bits, and a subset of the key bits (it is important that only a subset of the key bits are used in the equations as it would be a full exhaustive key search otherwise).\n",
    "\n",
    "In this programming assingment, we consider a more powerful adversary who can introduce *controlled faults* in the block cipher itself (call the block cipher $\\mathcal{E} = (E, D)$). On a high level, the attack proceeds as follows. Given an unknwon key $k$ and an unknown message $m$, the adversary begins by letting the block cipher encrypt the message $m$ as it is, i.e., $ct = E(k, m)$. Then, the adversary forces the block cipher run the encryption procedure on the message $m$ with the same key *again*, except now that it introduces the fault (call the encryption function with the fault $E'$), i.e., $ct' = E'(k, m)$.\n",
    "\n",
    "By introducing the fault strategically, the adverary can come up with equations involving the fault, (a subset of) the bits from $ct$, (a subset of) the bits from $ct'$, and a subset of the key bits (note that the adversary does not need to know the plaintext in this attack). The adversary can then run an exhaustive search on those key bits to recover the key. This type of attack is known as differential fault analysis (DFA).\n",
    "\n",
    "We look at two DFAs that targets AES in this programming assignment. You can find the paper that describes the attacks [here](https://eprint.iacr.org/2009/575)."
   ]
  },
  {
   "cell_type": "markdown",
   "metadata": {
    "vscode": {
     "languageId": "plaintext"
    }
   },
   "source": [
    "## Part 1: Set Up AES and Implement the Fault\n",
    "If you are interested in implementing AES from scratch yourself, use the following resources:\n",
    "- Section 2.1 of the paper for a high-level description.\n",
    "- [The AES specification from NIST](https://csrc.nist.gov/csrc/media/projects/cryptographic-standards-and-guidelines/documents/aes-development/rijndael-ammended.pdf) for a full description.\n",
    "Otherwise, you can borrow a Python implementation from [here](https://github.com/bluekeybo/AES).\n",
    "\n",
    "Your first goal is to introduce a fault in the first byte of the state matrix of AES before the eighth round as described in Section 3.1 of the paper. For that, you will need to create a `fault_encrypt()` procedure in your AES implementation (in `AES/src/Regular/aes.py` if you are using the given Python implementation)."
   ]
  },
  {
   "cell_type": "code",
   "execution_count": null,
   "metadata": {},
   "outputs": [],
   "source": []
  },
  {
   "cell_type": "markdown",
   "metadata": {},
   "source": [
    "## Part 2: DFA with a Random Fault\n",
    "Implement the DFA described in Section 3 of the paper."
   ]
  },
  {
   "cell_type": "code",
   "execution_count": null,
   "metadata": {},
   "outputs": [],
   "source": []
  },
  {
   "cell_type": "markdown",
   "metadata": {},
   "source": [
    "## Part 3: DFA with a \"Fixed\" Fault\n",
    "Implement the DFA described in Section 4 of the paper. As before, you need to create a `fixed_fault_encrypt()` procedure in your AES implementation first before you can implement the attack."
   ]
  },
  {
   "cell_type": "code",
   "execution_count": null,
   "metadata": {},
   "outputs": [],
   "source": []
  }
 ],
 "metadata": {
  "language_info": {
   "name": "python"
  }
 },
 "nbformat": 4,
 "nbformat_minor": 2
}
