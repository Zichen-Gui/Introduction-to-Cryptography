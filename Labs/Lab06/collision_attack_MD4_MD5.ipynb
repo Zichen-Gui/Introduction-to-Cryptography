{
 "cells": [
  {
   "cell_type": "markdown",
   "metadata": {},
   "source": [
    "## Introduction\n",
    "MD4 and MD5 are cryptographic hash functions developed in the 1990s. As you have seen in the class, a cryptographic hash function should be collision resistant, meaning that it should be hard to find $m_0 \\neq m_1$ such that $H(m_0) = H(m_1)$. It turns out that MD4 and MD5 are not resilient to collision attacks in this sense. In this programming assignment, you will explore collision attacks on MD4 and MD5. **This programming assignment is very hard. Only attempt it if you have enough free time.**"
   ]
  },
  {
   "cell_type": "markdown",
   "metadata": {},
   "source": [
    "## Part 1: Attacking MD4\n",
    "A description of MD4 can be found in [RFC 1186](https://datatracker.ietf.org/doc/html/rfc1186) or in the attack papers. On a high level, MD4 consists of 48 \"MD4 operations\", grouped into three rounds of 16 operations each. A different non-linear function is used in each round (to hopefully prevent easy ways of finding collisions). You can find an implementation of MD4 in the `hashlib` library.\n",
    "\n",
    "### Overview of the Attacks\n",
    "In all of the attacks on MD4 listed below, we start by specifying a message difference $\\Delta$. Ultimately, we want to find messages $m$ and $m \\oplus \\Delta$ such that $H(m) = H(m \\oplus \\Delta)$. With the message difference, one hope to find a *differential path* that has collisions in the internal states of MD4. Once that is done, one can identify sufficient conditions for which the collisions will occur. \n",
    "\n",
    "Of course, these conditions along only speed up the searching of the attacker slighly ($2^{-122}$ chance for a collision with a random guess in the first paper). In order to get a message $m$ for which  $H(m) = H(m \\oplus \\Delta)$, the attacker needs to make use of the sufficient conditions to modify the message. There are typically two types of modifications, namely single-step modification and multi-step modification.\n",
    "\n",
    "In single-step modification, the attacker focus on the conditions in the first round. The attacker can modify a message to satisfy all these conditions easily.\n",
    "In the multi-step modification, the attacker starts with a message that satisfies all the conditions in the first round, and modifies the message in a way that all the conditions in the first round are still satisfied after the modification, and the conditions in the second round can be satisfied as well.\n",
    "\n",
    "Study the following papers and implement a collision attack (from one of the papers) against MD4.\n",
    "\n",
    "Attacks:\n",
    "- [X. Wang, X. Lai, D. Feng, H. Chen and X. Yu. Cryptanalysis of the Hash Functions MD4 and RIPEMD. Eurocrypt 2005.](https://www.iacr.org/archive/fse2007/45930331/45930331.pdf)\n",
    "- [M. Schl¨affer and E. Oswald. Searching for Differential Paths in MD4. Fast Software Encryption (FSE) 2006.](https://www.iacr.org/archive/fse2006/40470245/40470245.pdf)\n",
    "- [Y. Sasaki, L. Wang, K. Ohta and N. Kunihiro. New Message Difference for MD4. Fast Software Encryption (FSE) 2007.](https://iacr.org/archive/fse2007/45930331/45930331.pdf)"
   ]
  },
  {
   "cell_type": "code",
   "execution_count": null,
   "metadata": {
    "vscode": {
     "languageId": "plaintext"
    }
   },
   "outputs": [],
   "source": []
  },
  {
   "cell_type": "markdown",
   "metadata": {},
   "source": [
    "## Part 2: Attacking MD5\n",
    "MD5 has a similar design to MD4 and it is vulnerable to the same type of attack.\n",
    "Study the following papers and implement a collision attack against MD5.\n",
    "\n",
    "Attacks:\n",
    "- [Marc Stevens. Fast Collision Attack on MD5.](https://eprint.iacr.org/2006/104.pdf)\n",
    "- [Tao Xie, Fanbao Liu, Dengguo Feng. Fast Collision Attack on MD5.](https://eprint.iacr.org/2013/170.pdf)"
   ]
  },
  {
   "cell_type": "code",
   "execution_count": null,
   "metadata": {
    "vscode": {
     "languageId": "plaintext"
    }
   },
   "outputs": [],
   "source": []
  },
  {
   "cell_type": "markdown",
   "metadata": {},
   "source": [
    "## Remarks\n",
    "Despite these attacks, MD4 and MD5 are still used in may applications. This is because the attacks above are attacks against collision resistance (i.e., the easiest attack goal). With the attacks above, one can only find a random message $m$ and a fixed collision $m \\oplus \\Delta$. MD4 and MD5 are still practically secure (but theoretically broken) against preimage attacks (In a preimage attack, the attacker needs to find a collision for a given message $m$). For many applications (such as password hashing and file integrity check), preimage resistance is good enough. That is why MD4 and MD5 are still used.\n",
    "You are advised not to use MD4 and MD5 in new applications you build because *attacks only get better* and more secure alternatives exist."
   ]
  },
  {
   "cell_type": "markdown",
   "metadata": {},
   "source": []
  }
 ],
 "metadata": {
  "language_info": {
   "name": "python"
  }
 },
 "nbformat": 4,
 "nbformat_minor": 2
}
