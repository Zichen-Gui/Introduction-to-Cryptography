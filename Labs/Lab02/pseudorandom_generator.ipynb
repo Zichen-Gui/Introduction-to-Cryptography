{
 "cells": [
  {
   "cell_type": "markdown",
   "metadata": {},
   "source": [
    "## Introduction\n",
    "In this lab, you will implement an attack against `Math.random()` in Java 8 Development Kit and an attack against the Content Scrambling System (CSS)."
   ]
  },
  {
   "cell_type": "markdown",
   "metadata": {},
   "source": [
    "### Part 1. Attack against `Math.random()`\n",
    "Implement an exhaustive-search attack against `Math.random()` in Java 8 Development Kit.\n",
    "\n",
    "You should work with the [Ramdom](https://docs.oracle.com/javase/7/docs/api/java/util/Random.html#setSeed%28long%29) class directly (`Math.random()` is a wrapper around the Random class) so that you can control the seed directly via the `setSeed()` method."
   ]
  },
  {
   "cell_type": "code",
   "execution_count": null,
   "metadata": {},
   "outputs": [],
   "source": []
  },
  {
   "cell_type": "markdown",
   "metadata": {},
   "source": [
    "### Bonus\n",
    "Implement an attack against the larger linear congruential generator ($q = 2^{512}$) outlined in Boneh & Shoup."
   ]
  },
  {
   "cell_type": "markdown",
   "metadata": {},
   "source": [
    "### Part 2. Attack against CSS\n",
    "#### Part 2.1 Implement CSS\n",
    "Implement CSS as described in Boneh & Shoup."
   ]
  },
  {
   "cell_type": "code",
   "execution_count": null,
   "metadata": {},
   "outputs": [],
   "source": []
  },
  {
   "cell_type": "markdown",
   "metadata": {},
   "source": [
    "#### Part 2.2 Attack the implementation of CSS\n",
    "Generate random sequences with your CSS and break it!"
   ]
  },
  {
   "cell_type": "code",
   "execution_count": null,
   "metadata": {},
   "outputs": [],
   "source": []
  }
 ],
 "metadata": {
  "language_info": {
   "name": "python"
  }
 },
 "nbformat": 4,
 "nbformat_minor": 2
}
