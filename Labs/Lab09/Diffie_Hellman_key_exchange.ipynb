{
 "cells": [
  {
   "cell_type": "markdown",
   "metadata": {},
   "source": [
    "## Introduction\n",
    "Implement Diffie-Hellman key exchange (DHKE) as described in [RFC 2631](https://datatracker.ietf.org/doc/html/rfc2631)!"
   ]
  },
  {
   "cell_type": "code",
   "execution_count": null,
   "metadata": {
    "vscode": {
     "languageId": "plaintext"
    }
   },
   "outputs": [],
   "source": []
  },
  {
   "cell_type": "markdown",
   "metadata": {},
   "source": [
    "## Remarks\n",
    "- RFC 2631 implements the second variant of DHKE ($p = qj+1$ where $p$ and $q$ are primes and $j$ can be any integer greater or equal to 2) described in the class.\n",
    "- In some standards (e.g., [RFC 5114](https://datatracker.ietf.org/doc/html/rfc5114)), the group $G$ and the generator $g$ are fixed. This makes DHKE less secure due to the possibility of pre-computation in an attack (see https://weakdh.org/imperfect-forward-secrecy-ccs15.pdf for more details)."
   ]
  }
 ],
 "metadata": {
  "language_info": {
   "name": "python"
  }
 },
 "nbformat": 4,
 "nbformat_minor": 2
}
