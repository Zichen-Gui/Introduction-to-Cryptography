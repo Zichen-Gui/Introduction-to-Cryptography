{
 "cells": [
  {
   "cell_type": "markdown",
   "metadata": {},
   "source": [
    "## Introduction\n",
    "In this lab, you will implement a basic elliptic curve library that allows you to do ellipitic-curve cryptography. Then you will implement ECDSA which is a digital signature scheme based on elliptic curves."
   ]
  },
  {
   "cell_type": "markdown",
   "metadata": {},
   "source": [
    "## Part 1. Implement an Ellipitic Curve Library\n",
    "Your implementation should include "
   ]
  }
 ],
 "metadata": {
  "language_info": {
   "name": "python"
  }
 },
 "nbformat": 4,
 "nbformat_minor": 2
}
