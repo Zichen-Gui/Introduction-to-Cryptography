{
 "cells": [
  {
   "cell_type": "markdown",
   "metadata": {},
   "source": [
    "## Introduction\n",
    "In this lab, you will implement one-time pad (OPT) as you have seen in the lecture. You will also implement an attack against two-time pad.\n",
    "\n",
    "If you are new to Python, check [here](https://www.python.org/about/gettingstarted/) to get started."
   ]
  },
  {
   "cell_type": "markdown",
   "metadata": {},
   "source": [
    "### Part 1: Implement OPT\n",
    "Implement OPT (fixed length) as you have seen in the lecture."
   ]
  },
  {
   "cell_type": "code",
   "execution_count": 6,
   "metadata": {},
   "outputs": [],
   "source": [
    "class OTP:\n",
    "    def encrypt(key: bytes, plaintext: bytes) -> bytes:\n",
    "        pass\n",
    "\n",
    "    def decrypt(key: bytes, ciphertext: bytes) -> bytes:\n",
    "        pass"
   ]
  },
  {
   "cell_type": "markdown",
   "metadata": {},
   "source": [
    "Check the correctness of your implementation by generating a key (how to do this properly?) and checking the correctness property in the lecture."
   ]
  },
  {
   "cell_type": "code",
   "execution_count": 7,
   "metadata": {},
   "outputs": [],
   "source": [
    "# TODO: generate a key and a plaintext\n",
    "key = None\n",
    "plaintext = None\n",
    "\n",
    "assert OTP.decrypt(key, OTP.encrypt(key, plaintext)) == plaintext"
   ]
  },
  {
   "cell_type": "markdown",
   "metadata": {},
   "source": [
    "Add additional helper code/functions so that your code works with strings (ASCII encoding).\n",
    "\n",
    "Modify your implementation so that it can support variable-length plaintext.\n",
    "\n",
    "Bonus: implement additive OTP."
   ]
  },
  {
   "cell_type": "markdown",
   "metadata": {},
   "source": [
    "### Part 2: Implement Two-Time Pad\n",
    "In two-time pad (TTP), for a fixed length $L$ and a key $k \\in \\{0,1\\}^L$, we encrypt a message $m = m_0 || m_1 || ... || m_l$ where $|m_i| = L$ or $i < L$ as $OTP.encrypt(k, m_0) || OTP.encrypt(k, m_1) || ... || OTP.encrypt(k, m_L)$. Implement TTP.\n",
    "\n",
    "Hint: use your OTP as a building block."
   ]
  },
  {
   "cell_type": "code",
   "execution_count": 8,
   "metadata": {},
   "outputs": [],
   "source": [
    "class TTP:\n",
    "    def encrypt(key: bytes, plaintext: bytes) -> bytes:\n",
    "        pass\n",
    "\n",
    "    def decrypt(key: bytes, ciphertext: bytes) -> bytes:\n",
    "        pass"
   ]
  },
  {
   "cell_type": "markdown",
   "metadata": {},
   "source": [
    "Use TTP to encrypt the following text with $L=16$.\n",
    "> The missile knows where it is at all times. It knows this because it knows where it isn't. By subtracting where it is from where it isn't, or where it isn't from where it is (whichever is greater), it obtains a difference, or deviation. The guidance subsystem uses deviations to generate corrective commands to drive the missile from a position where it is to a position where it isn't, and arriving at a position where it wasn't, it now is. Consequently, the position where it is, is now the position that it wasn't, and it follows that the position that it was, is now the position that it isn't. In the event that the position that it is in is not the position that it wasn't, the system has acquired a variation, the variation being the difference between where the missile is, and where it wasn't. If variation is considered to be a significant factor, it too may be corrected by the GEA. However, the missile must also know where it was. The missile guidance computer scenario works as follows. Because a variation has modified some of the information the missile has obtained, it is not sure just where it is. However, it is sure where it isn't, within reason, and it knows where it was. It now subtracts where it should be from where it wasn't, or vice-versa, and by differentiating this from the algebraic sum of where it shouldn't be, and where it was, it is able to obtain the deviation and its variation, which is called error."
   ]
  },
  {
   "cell_type": "code",
   "execution_count": null,
   "metadata": {},
   "outputs": [],
   "source": []
  },
  {
   "cell_type": "markdown",
   "metadata": {},
   "source": [
    "#### Part 2.1 Simple Attack\n",
    "Suppose the attacker knows that the first $L=16$ characters of the plaintext (`The missile know`). Implement an attack that recovers the full plaintext with the first $L$ characters of the plaintext and the ciphertext as the input."
   ]
  },
  {
   "cell_type": "code",
   "execution_count": null,
   "metadata": {},
   "outputs": [],
   "source": []
  },
  {
   "cell_type": "markdown",
   "metadata": {},
   "source": [
    "#### Part 2.2 Challenge\n",
    "Try to recover the plaintext with the knowledge of $L$ and the ciphertext only."
   ]
  },
  {
   "cell_type": "code",
   "execution_count": null,
   "metadata": {},
   "outputs": [],
   "source": []
  }
 ],
 "metadata": {
  "kernelspec": {
   "display_name": "Python 3",
   "language": "python",
   "name": "python3"
  },
  "language_info": {
   "codemirror_mode": {
    "name": "ipython",
    "version": 3
   },
   "file_extension": ".py",
   "mimetype": "text/x-python",
   "name": "python",
   "nbconvert_exporter": "python",
   "pygments_lexer": "ipython3",
   "version": "3.10.4"
  }
 },
 "nbformat": 4,
 "nbformat_minor": 2
}
