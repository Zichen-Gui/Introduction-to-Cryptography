{
 "cells": [
  {
   "cell_type": "markdown",
   "metadata": {},
   "source": [
    "## Introduction\n",
    "In this programming assignment, you will look at a historical block cipher called FEAL (the Fast data Encipherment Algorithm) which was proposed as an alternative to the Data Encryption Standard (DES).\n",
    "FEAL is based on the Feistel permutation you have seen in the lecture.\n",
    "While DES is only vulnerable to exhaustive key-search attack (which is why 3-DES is still being used today), FEAL is susceptible to various forms of cryptanalysis, and has acted as a catalyst in the discovery of differential and linear cryptanalysis.\n",
    "\n",
    "You have two tasks in this programming assignment: (1) implement FEAL, and (2) break FEAL."
   ]
  },
  {
   "cell_type": "markdown",
   "metadata": {},
   "source": [
    "## Part 1. Implement FEAL\n",
    "You can find a description of FEAL [here](https://link.springer.com/chapter/10.1007/3-540-39118-5_24).\n",
    "A more succinct version of the description can be found [here](https://link.springer.com/chapter/10.1007/3-540-46766-1_12).\n",
    "Implement FEAL."
   ]
  },
  {
   "cell_type": "code",
   "execution_count": null,
   "metadata": {},
   "outputs": [],
   "source": []
  },
  {
   "cell_type": "markdown",
   "metadata": {},
   "source": [
    "## Part 2. Attack FEAL (Linear Cryptanalysis)\n",
    "The core idea of the attack on FEAL is that if an attacker is given a key $K$, a plaintext $P$ and a ciphertext $C = E(K, P)$, it is possible for the attacker to construct a linear equation between $K, P$ and $C$ such that only some bits of $K$ are used.\n",
    "This linear equation allows the attacker to perform exhaustive key-search on these bits by themselves (instead of over the whole key space). Once the attacker obtains those bits of the key, it can perform an exhaustive search on the other bits of the key. In the end, the attacker gets all bits of the key and the scheme is broken.\n",
    "A concrete attack of this kind can be found [here](https://link.springer.com/chapter/10.1007/3-540-47555-9_7). The paper shows only 5 known plaintext-ciphertext pairs are required to break FEAL-4."
   ]
  },
  {
   "cell_type": "code",
   "execution_count": null,
   "metadata": {},
   "outputs": [],
   "source": []
  }
 ],
 "metadata": {
  "kernelspec": {
   "display_name": "Python 3",
   "language": "python",
   "name": "python3"
  },
  "language_info": {
   "codemirror_mode": {
    "name": "ipython",
    "version": 3
   },
   "file_extension": ".py",
   "mimetype": "text/x-python",
   "name": "python",
   "nbconvert_exporter": "python",
   "pygments_lexer": "ipython3",
   "version": "3.10.4"
  }
 },
 "nbformat": 4,
 "nbformat_minor": 2
}
