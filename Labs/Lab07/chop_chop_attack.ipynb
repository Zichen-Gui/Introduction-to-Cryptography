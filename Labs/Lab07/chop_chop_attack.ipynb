{
 "cells": [
  {
   "cell_type": "markdown",
   "metadata": {},
   "source": [
    "## Introduction\n",
    "In the class, you saw an attack breaking message intergrity of the encryption used in 802.11b WEP. In this assignment, you will break confidentiality of it as well.\n",
    "\n",
    "In 802.11b WEP, a message $m$ is encrypted as $c = (m \\mathbin\\Vert CRC32(m)) \\oplus RC4(IV, k)$ where $IV$ is the initialization vector and $k$ is the encryption key. The final ciphertext contains both $c$ and $IV$.\n",
    "\n",
    "In the chopchop attack, the attacker reduce the length of the message by one byte and try to guess the last byte. Since CRC32() is linear, the attacker can compute the effect of removing the last byte on the ciphertext. The attacker then send crafted ciphertexts (with the same $IV$ and a different guess of the last byte of the messaage) to the access point (since WEP is used for wireless communication) and observe if the ciphertext can be decrypted correctly (i.e., the attacker uses the access point as a decryption oracle). Once the attacker recovers the last byte, it can move on by chopping one more byte off the message and repeat the attack.\n",
    "\n",
    "Implement the encryption scheme in 802.11b WEP and attack it!\n",
    "\n",
    "Reference:\n",
    "[M. Guennoun, A. Lbekkouri, A. Benamrane, M. Ben-Tahir and K. El-Khatib, \"Wireless networks security: Proof of chopchop attack,\" 2008 International Symposium on a World of Wireless, Mobile and Multimedia Networks.](https://ieeexplore.ieee.org/stamp/stamp.jsp?tp=&arnumber=4594924)"
   ]
  },
  {
   "cell_type": "code",
   "execution_count": null,
   "metadata": {},
   "outputs": [],
   "source": []
  }
 ],
 "metadata": {
  "kernelspec": {
   "display_name": "Python 3",
   "language": "python",
   "name": "python3"
  },
  "language_info": {
   "name": "python",
   "version": "3.10.4"
  }
 },
 "nbformat": 4,
 "nbformat_minor": 2
}
