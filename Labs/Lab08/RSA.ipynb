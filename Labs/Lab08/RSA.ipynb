{
 "cells": [
  {
   "cell_type": "markdown",
   "metadata": {},
   "source": [
    "## Introduction\n",
    "In the class, you saw the description of [the RSA cryptosystem](https://people.csail.mit.edu/rivest/Rsapaper.pdf). You also saw a description of how to implement the procedures in RSA. You will implement RSA from scratch (with no libraries other than a library for random number generation)."
   ]
  },
  {
   "cell_type": "markdown",
   "metadata": {},
   "source": [
    "## Part 1. Exponentiation by squaring\n",
    "Implement exponentiation by squaring. Your function should take as inputs $a, x, n$ and output $a^x (mod n)$."
   ]
  },
  {
   "cell_type": "code",
   "execution_count": null,
   "metadata": {
    "vscode": {
     "languageId": "plaintext"
    }
   },
   "outputs": [],
   "source": []
  },
  {
   "cell_type": "markdown",
   "metadata": {},
   "source": [
    "## Part 2. The Miller-Rabin Primality Test\n",
    "Implement [the Miller-Rabin primality test](https://en.wikipedia.org/wiki/Miller–Rabin_primality_test). You can use your code from Part 1 to compute $a^d (mod n)$, where $d$ is the largest odd number that divides $n-1$ as shown on the Wikipedia page.\n",
    "\n",
    "In practice, one often test-divide the number by a set of small primes before running the primality test. This is optional in your implementation."
   ]
  },
  {
   "cell_type": "code",
   "execution_count": null,
   "metadata": {
    "vscode": {
     "languageId": "plaintext"
    }
   },
   "outputs": [],
   "source": []
  },
  {
   "cell_type": "markdown",
   "metadata": {},
   "source": [
    "## Part 3. The (Extended) Euclidean Algorithm\n",
    "Implement the Euclidean algorithm to find the gcd between two numbers $a$ and $b$. You need this to verify that $d$ is coprime to $(p-1)(q-1)$.\n",
    "\n",
    "Extend your implementation to the extended Euclidean algorithm so that it outputs $s$ and $t$ such that $sa + tb = gcd(a,b)$ as well. You need this to find the inverse of $d mod((p-1)(q-1))$.\n",
    "\n",
    "Remark: The description of the original RSA paper is slightly different from Boneh & Shoup. Specifically, in Boneh & Shoup, $e$ is given as the input and one tries to compute $d$ based on $e$. On the other hand, RSA requires $d$ to be a large number. The rationale of the choice in RSA is so that the attacker cannot simply try all small $d$'s to decrypt the message (this can be a problem if the message has a certain format, e.g., http header, so that the attacker knows that it succeeded when the ciphertext decrypts to that format). \n",
    "\n",
    "In practice, even if one chooses $e$ and $d$ randomly, the chance of getting a small $d$ is small. So this is not a big concern. Though additional sanity checks are always helpful to make the implementation more secure!"
   ]
  },
  {
   "cell_type": "code",
   "execution_count": null,
   "metadata": {
    "vscode": {
     "languageId": "plaintext"
    }
   },
   "outputs": [],
   "source": []
  },
  {
   "cell_type": "markdown",
   "metadata": {},
   "source": [
    "## Part 4. The RSA Cryptosystem\n",
    "Implement the full RSA cryptosystem!"
   ]
  },
  {
   "cell_type": "code",
   "execution_count": null,
   "metadata": {
    "vscode": {
     "languageId": "plaintext"
    }
   },
   "outputs": [],
   "source": []
  }
 ],
 "metadata": {
  "language_info": {
   "name": "python"
  }
 },
 "nbformat": 4,
 "nbformat_minor": 2
}
